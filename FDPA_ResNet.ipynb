{
 "cells": [
  {
   "cell_type": "markdown",
   "metadata": {},
   "source": [
    "## Define ResNet"
   ]
  },
  {
   "cell_type": "code",
   "execution_count": 2,
   "metadata": {},
   "outputs": [],
   "source": [
    "from tensorflow.keras.layers import Conv2D,Add, BatchNormalization,UpSampling2D, Activation, Concatenate, Input\n",
    "from tensorflow.keras.models import Model\n",
    "from tensorflow.keras.optimizers import Adam\n",
    "import tensorflow as tf\n",
    "tf.config.run_functions_eagerly(True)\n",
    "\n",
    "# from cvnn import layers\n",
    "# import cvnn\n",
    "\n",
    "from pdb import set_trace\n",
    "# import tensorflow_datasets as tfds\n",
    "import scipy\n",
    "import matplotlib.pyplot as plt\n",
    "import glob\n",
    "from sklearn.model_selection import train_test_split\n",
    "import cmath\n",
    "import scipy.io as sio\n",
    "import numpy as np"
   ]
  },
  {
   "cell_type": "code",
   "execution_count": 3,
   "metadata": {},
   "outputs": [],
   "source": [
    "def avg_NSR(Y_true, Y_pred):\n",
    "    signal = tf.norm(tf.reshape(Y_true, [tf.shape(Y_true)[0], -1]), axis=1)\n",
    "    noise = tf.norm(tf.reshape(Y_true - Y_pred, [tf.shape(Y_true)[0], -1]), axis=1)\n",
    "\n",
    "    return tf.math.reduce_mean(noise / signal)"
   ]
  },
  {
   "cell_type": "code",
   "execution_count": 4,
   "metadata": {},
   "outputs": [],
   "source": [
    "def avg_log_SNR(Y_true, Y_pred):\n",
    "    signal = tf.norm(tf.reshape(Y_true, [tf.shape(Y_true)[0], -1]), axis=1)\n",
    "    noise = tf.norm(tf.reshape(Y_true - Y_pred, [tf.shape(Y_true)[0], -1]), axis=1)\n",
    "\n",
    "    return tf.math.reduce_mean(20. * tf.math.log(signal / noise) / tf.math.log(10.0))"
   ]
  },
  {
   "cell_type": "code",
   "execution_count": 5,
   "metadata": {},
   "outputs": [],
   "source": [
    "def BatchActivate(x, act=True):\n",
    "    x = BatchNormalization()(x)\n",
    "    if act == True:\n",
    "        x = Activation(\"relu\")(x)\n",
    "    return x\n",
    "\n",
    "def conv_block(x, filters, kernel_size=(3, 3), padding=\"same\", strides=1):\n",
    "    conv = BatchActivate(x)\n",
    "    conv = Conv2D(filters, kernel_size, padding=padding, strides=strides)(conv)\n",
    "    return conv\n",
    "\n",
    "def stem(x, filters, kernel_size=(3, 3), padding=\"same\", strides=1):\n",
    "    conv = Conv2D(filters, kernel_size, padding=padding, strides=strides)(x)\n",
    "    conv = conv_block(conv, filters, kernel_size=kernel_size, padding=padding, strides=strides)\n",
    "    \n",
    "    shortcut = Conv2D(filters, kernel_size=(1, 1), padding=padding, strides=strides)(x)\n",
    "    shortcut = BatchActivate(shortcut, act=False)\n",
    "    \n",
    "    output = Add()([conv, shortcut])\n",
    "    return output\n",
    "\n",
    "def residual_block(x, filters, kernel_size=(3, 3), padding=\"same\", strides=1):\n",
    "    res = conv_block(x, filters, kernel_size=kernel_size, padding=padding, strides=strides)\n",
    "    res = conv_block(res, filters, kernel_size=kernel_size, padding=padding, strides=1)\n",
    "    \n",
    "    shortcut = Conv2D(filters, kernel_size=(1, 1), padding=padding, strides=strides)(x)\n",
    "    shortcut = BatchActivate(shortcut, act=False)\n",
    "    \n",
    "    output = Add()([shortcut, res])\n",
    "    return output\n",
    "\n",
    "def upsample_concat_block(x, xskip):\n",
    "    u = UpSampling2D((2, 2))(x)\n",
    "    # print(u.shape)\n",
    "    # u = tf.keras.layers.Cropping2D(cropping=())\n",
    "    c = Concatenate()([u, xskip])\n",
    "    return c"
   ]
  },
  {
   "cell_type": "code",
   "execution_count": 6,
   "metadata": {},
   "outputs": [],
   "source": [
    "def ResUnet(image_size,channels):\n",
    "    f = [8, 16, 32, 64, 128]\n",
    "    inputs = Input((image_size, image_size, 1))\n",
    "    \n",
    "    ## Encoder\n",
    "    E0 = inputs \n",
    "    E1 = stem(E0, f[0])\n",
    "    E2 = residual_block(E1, f[1], strides=2)\n",
    "    print(E2.shape)\n",
    "    E3 = residual_block(E2, f[2], strides=2)\n",
    "    print(E3.shape)\n",
    "    E4 = residual_block(E3, f[3], strides=2)\n",
    "    \n",
    "    E5 = residual_block(E4, f[4], strides=2)\n",
    "    \n",
    "    ## Bridge\n",
    "    B0 = conv_block(E5, f[2], strides=1)\n",
    "    print(B0.shape)\n",
    "    B1 = conv_block(B0, f[2], strides=1)\n",
    "    print(B1.shape)\n",
    "    \n",
    "    ## Decoder\n",
    "    U1 = upsample_concat_block(B1, E4)\n",
    "\n",
    "    D1 = residual_block(U1, f[2])\n",
    "    U2 = upsample_concat_block(D1, E3)\n",
    "    D2 = residual_block(U2, f[1])\n",
    "    \n",
    "    U3 = upsample_concat_block(D2, E2)\n",
    "    D3 = residual_block(U3, f[2])\n",
    "    \n",
    "    U4 = upsample_concat_block(D3, E1)\n",
    "    D4 = residual_block(U4, f[1])\n",
    "    \n",
    "    outputs = Conv2D(1, (1, 1), padding=\"same\", activation=\"relu\")(D4)\n",
    "    # outputs = outputs + e0\n",
    "    model = Model(inputs, outputs)\n",
    "    model.compile(optimizer=Adam(learning_rate = 1e-3), loss=avg_NSR, metrics=[avg_log_SNR])\n",
    "    return model\n"
   ]
  },
  {
   "cell_type": "markdown",
   "metadata": {},
   "source": [
    "## Read Data"
   ]
  },
  {
   "cell_type": "code",
   "execution_count": 7,
   "metadata": {},
   "outputs": [],
   "source": [
    "import os\n",
    "os.environ[\"CUDA_VISIBLE_DEVICES\"]=\"0\"\n",
    "os.environ[\"TF_FORCE_GPU_ALLOW_GROWTH\"] = \"true\"\n"
   ]
  },
  {
   "cell_type": "code",
   "execution_count": 8,
   "metadata": {},
   "outputs": [],
   "source": [
    "ph_size = 128\n",
    "path = \"../../../Dataset/sensor_domain/Final/dataset_300/*\"\n",
    "test_size = 0.15"
   ]
  },
  {
   "cell_type": "code",
   "execution_count": 8,
   "metadata": {},
   "outputs": [],
   "source": [
    "def read_data(path, test_size=0.25):\n",
    "    \n",
    "    ground_truth = []\n",
    "    sensor_data = []\n",
    "    count = 0\n",
    "    for filename in glob.glob(path):\n",
    "        mat = sio.loadmat(filename)\n",
    "        truth = mat[\"gt\"]\n",
    "        sensor = mat[\"P\"]\n",
    "        \n",
    "        \n",
    "        # sensor_norm = mat[\"sensor_norm\"]\n",
    "        sensor_norm = sensor\n",
    "        \n",
    "        \n",
    "        gt = truth\n",
    "        # gt = np.expand_dims(gt, axis=0)\n",
    "        # sensor_norm = np.expand_dims(sensor_norm, axis=0)\n",
    "\n",
    "        temp = np.append(sensor_norm.real, sensor_norm.imag)\n",
    "        temp = np.reshape(temp, (ph_size, ph_size))\n",
    "        temp = np.asarray(temp)\n",
    "        ground_truth.append(gt)\n",
    "        sensor_data.append(temp)\n",
    "    temp_gt = []\n",
    "    temp_sens = []\n",
    "    for i in range(len(ground_truth)):\n",
    "        if np.isnan(ground_truth[i]).any() == False:\n",
    "            temp_gt.append(ground_truth[i])\n",
    "            temp_sens.append(sensor_data[i])\n",
    "    ground_truth = temp_gt\n",
    "    sensor_data = temp_sens\n",
    "    \n",
    "#     ground_truth = [i for i in ground_truth if np.isnan(i).any() == False]\n",
    "#     sensor_data = [i for i in sensor_data if np.isnan(i).any() == False]\n",
    "    \n",
    "    X_train, X_test, y_train, y_test = train_test_split(sensor_data,ground_truth, test_size=test_size, random_state=22)\n",
    "    X_train = np.asarray(X_train)\n",
    "    X_test = np.asarray(X_test)\n",
    "    y_train = np.asarray(y_train)\n",
    "    y_test = np.asarray(y_test)\n",
    "    # X_train = np.reshape(X_train, (np.asarray(X_train).shape[0], 1, np.asarray(X_train).shape[1]))\n",
    "    # X_test = np.reshape(X_test, (np.asarray(X_test).shape[0], 1, np.asarray(X_test).shape[1]))\n",
    "    # y_train = np.reshape(y_train, (np.asarray(y_train).shape[0], 1, np.asarray(y_train).shape[1]))\n",
    "    # y_test = np.reshape(y_test, (np.asarray(y_test).shape[0], 1, np.asarray(y_test).shape[1]))\n",
    "    # X_train = np.expand_dims(X_train, axis=-1)\n",
    "    # X_test = np.expand_dims(X_test, axis=-1)\n",
    "    # y_train = np.expand_dims(y_train, axis=-1)\n",
    "    # y_test = np.expand_dims(y_test, axis=-1)\n",
    "    return X_train, X_test, y_train, y_test"
   ]
  },
  {
   "cell_type": "code",
   "execution_count": 9,
   "metadata": {},
   "outputs": [
    {
     "name": "stdout",
     "output_type": "stream",
     "text": [
      "Data read : \n",
      "X_train = 9870\n",
      "y_train = 9870\n",
      "X_test = 4230\n",
      "y_test = 4230\n"
     ]
    },
    {
     "data": {
      "text/plain": [
       "(4230, 128, 128)"
      ]
     },
     "execution_count": 9,
     "metadata": {},
     "output_type": "execute_result"
    }
   ],
   "source": [
    "X_train, X_test, y_train, y_test = read_data(path, test_size=test_size)\n",
    "\n",
    "print(\"Data read : \\nX_train = {}\\ny_train = {}\\nX_test = {}\\ny_test = {}\".format(len(X_train), len(y_train), len(X_test), len(y_test)))\n",
    "X_test.shape"
   ]
  },
  {
   "cell_type": "markdown",
   "metadata": {},
   "source": [
    "## Train Model"
   ]
  },
  {
   "cell_type": "code",
   "execution_count": 10,
   "metadata": {},
   "outputs": [],
   "source": [
    "import tensorflow as tf\n",
    "from tensorflow.keras.callbacks import ModelCheckpoint,EarlyStopping,CSVLogger\n",
    "import matplotlib.pyplot as plt\n",
    "\n",
    "import glob\n",
    "import scipy.io\n",
    "import numpy as np\n",
    "from skimage.measure import profile_line\n",
    "from datetime import datetime"
   ]
  },
  {
   "cell_type": "code",
   "execution_count": 11,
   "metadata": {},
   "outputs": [
    {
     "name": "stderr",
     "output_type": "stream",
     "text": [
      "2022-08-27 08:27:38.661046: I tensorflow/stream_executor/cuda/cuda_gpu_executor.cc:937] successful NUMA node read from SysFS had negative value (-1), but there must be at least one NUMA node, so returning NUMA node zero\n",
      "2022-08-27 08:27:38.664501: I tensorflow/stream_executor/cuda/cuda_gpu_executor.cc:937] successful NUMA node read from SysFS had negative value (-1), but there must be at least one NUMA node, so returning NUMA node zero\n",
      "2022-08-27 08:27:38.664614: I tensorflow/stream_executor/cuda/cuda_gpu_executor.cc:937] successful NUMA node read from SysFS had negative value (-1), but there must be at least one NUMA node, so returning NUMA node zero\n",
      "2022-08-27 08:27:38.664876: I tensorflow/core/platform/cpu_feature_guard.cc:142] This TensorFlow binary is optimized with oneAPI Deep Neural Network Library (oneDNN) to use the following CPU instructions in performance-critical operations:  AVX2 FMA\n",
      "To enable them in other operations, rebuild TensorFlow with the appropriate compiler flags.\n",
      "2022-08-27 08:27:38.665225: I tensorflow/stream_executor/cuda/cuda_gpu_executor.cc:937] successful NUMA node read from SysFS had negative value (-1), but there must be at least one NUMA node, so returning NUMA node zero\n",
      "2022-08-27 08:27:38.665344: I tensorflow/stream_executor/cuda/cuda_gpu_executor.cc:937] successful NUMA node read from SysFS had negative value (-1), but there must be at least one NUMA node, so returning NUMA node zero\n",
      "2022-08-27 08:27:38.665489: I tensorflow/stream_executor/cuda/cuda_gpu_executor.cc:937] successful NUMA node read from SysFS had negative value (-1), but there must be at least one NUMA node, so returning NUMA node zero\n",
      "2022-08-27 08:27:38.929112: I tensorflow/stream_executor/cuda/cuda_gpu_executor.cc:937] successful NUMA node read from SysFS had negative value (-1), but there must be at least one NUMA node, so returning NUMA node zero\n",
      "2022-08-27 08:27:38.929248: I tensorflow/stream_executor/cuda/cuda_gpu_executor.cc:937] successful NUMA node read from SysFS had negative value (-1), but there must be at least one NUMA node, so returning NUMA node zero\n",
      "2022-08-27 08:27:38.929348: I tensorflow/stream_executor/cuda/cuda_gpu_executor.cc:937] successful NUMA node read from SysFS had negative value (-1), but there must be at least one NUMA node, so returning NUMA node zero\n",
      "2022-08-27 08:27:38.929417: W tensorflow/core/common_runtime/gpu/gpu_bfc_allocator.cc:39] Overriding allow_growth setting because the TF_FORCE_GPU_ALLOW_GROWTH environment variable is set. Original config value was 0.\n",
      "2022-08-27 08:27:38.929439: I tensorflow/core/common_runtime/gpu/gpu_device.cc:1510] Created device /job:localhost/replica:0/task:0/device:GPU:0 with 6181 MB memory:  -> device: 0, name: NVIDIA GeForce RTX 2070 SUPER, pci bus id: 0000:01:00.0, compute capability: 7.5\n"
     ]
    },
    {
     "name": "stdout",
     "output_type": "stream",
     "text": [
      "(None, 64, 64, 16)\n",
      "(None, 32, 32, 32)\n",
      "(None, 8, 8, 32)\n",
      "(None, 8, 8, 32)\n"
     ]
    }
   ],
   "source": [
    "input_size = 128\n",
    "channels = 1\n",
    "model = ResUnet(input_size,channels)"
   ]
  },
  {
   "cell_type": "code",
   "execution_count": 12,
   "metadata": {},
   "outputs": [
    {
     "name": "stdout",
     "output_type": "stream",
     "text": [
      "Model: \"model\"\n",
      "__________________________________________________________________________________________________\n",
      "Layer (type)                    Output Shape         Param #     Connected to                     \n",
      "==================================================================================================\n",
      "input_1 (InputLayer)            [(None, 128, 128, 1) 0                                            \n",
      "__________________________________________________________________________________________________\n",
      "conv2d (Conv2D)                 (None, 128, 128, 8)  80          input_1[0][0]                    \n",
      "__________________________________________________________________________________________________\n",
      "batch_normalization (BatchNorma (None, 128, 128, 8)  32          conv2d[0][0]                     \n",
      "__________________________________________________________________________________________________\n",
      "activation (Activation)         (None, 128, 128, 8)  0           batch_normalization[0][0]        \n",
      "__________________________________________________________________________________________________\n",
      "conv2d_2 (Conv2D)               (None, 128, 128, 8)  16          input_1[0][0]                    \n",
      "__________________________________________________________________________________________________\n",
      "conv2d_1 (Conv2D)               (None, 128, 128, 8)  584         activation[0][0]                 \n",
      "__________________________________________________________________________________________________\n",
      "batch_normalization_1 (BatchNor (None, 128, 128, 8)  32          conv2d_2[0][0]                   \n",
      "__________________________________________________________________________________________________\n",
      "add (Add)                       (None, 128, 128, 8)  0           conv2d_1[0][0]                   \n",
      "                                                                 batch_normalization_1[0][0]      \n",
      "__________________________________________________________________________________________________\n",
      "batch_normalization_2 (BatchNor (None, 128, 128, 8)  32          add[0][0]                        \n",
      "__________________________________________________________________________________________________\n",
      "activation_1 (Activation)       (None, 128, 128, 8)  0           batch_normalization_2[0][0]      \n",
      "__________________________________________________________________________________________________\n",
      "conv2d_3 (Conv2D)               (None, 64, 64, 16)   1168        activation_1[0][0]               \n",
      "__________________________________________________________________________________________________\n",
      "batch_normalization_3 (BatchNor (None, 64, 64, 16)   64          conv2d_3[0][0]                   \n",
      "__________________________________________________________________________________________________\n",
      "conv2d_5 (Conv2D)               (None, 64, 64, 16)   144         add[0][0]                        \n",
      "__________________________________________________________________________________________________\n",
      "activation_2 (Activation)       (None, 64, 64, 16)   0           batch_normalization_3[0][0]      \n",
      "__________________________________________________________________________________________________\n",
      "batch_normalization_4 (BatchNor (None, 64, 64, 16)   64          conv2d_5[0][0]                   \n",
      "__________________________________________________________________________________________________\n",
      "conv2d_4 (Conv2D)               (None, 64, 64, 16)   2320        activation_2[0][0]               \n",
      "__________________________________________________________________________________________________\n",
      "add_1 (Add)                     (None, 64, 64, 16)   0           batch_normalization_4[0][0]      \n",
      "                                                                 conv2d_4[0][0]                   \n",
      "__________________________________________________________________________________________________\n",
      "batch_normalization_5 (BatchNor (None, 64, 64, 16)   64          add_1[0][0]                      \n",
      "__________________________________________________________________________________________________\n",
      "activation_3 (Activation)       (None, 64, 64, 16)   0           batch_normalization_5[0][0]      \n",
      "__________________________________________________________________________________________________\n",
      "conv2d_6 (Conv2D)               (None, 32, 32, 32)   4640        activation_3[0][0]               \n",
      "__________________________________________________________________________________________________\n",
      "batch_normalization_6 (BatchNor (None, 32, 32, 32)   128         conv2d_6[0][0]                   \n",
      "__________________________________________________________________________________________________\n",
      "conv2d_8 (Conv2D)               (None, 32, 32, 32)   544         add_1[0][0]                      \n",
      "__________________________________________________________________________________________________\n",
      "activation_4 (Activation)       (None, 32, 32, 32)   0           batch_normalization_6[0][0]      \n",
      "__________________________________________________________________________________________________\n",
      "batch_normalization_7 (BatchNor (None, 32, 32, 32)   128         conv2d_8[0][0]                   \n",
      "__________________________________________________________________________________________________\n",
      "conv2d_7 (Conv2D)               (None, 32, 32, 32)   9248        activation_4[0][0]               \n",
      "__________________________________________________________________________________________________\n",
      "add_2 (Add)                     (None, 32, 32, 32)   0           batch_normalization_7[0][0]      \n",
      "                                                                 conv2d_7[0][0]                   \n",
      "__________________________________________________________________________________________________\n",
      "batch_normalization_8 (BatchNor (None, 32, 32, 32)   128         add_2[0][0]                      \n",
      "__________________________________________________________________________________________________\n",
      "activation_5 (Activation)       (None, 32, 32, 32)   0           batch_normalization_8[0][0]      \n",
      "__________________________________________________________________________________________________\n",
      "conv2d_9 (Conv2D)               (None, 16, 16, 64)   18496       activation_5[0][0]               \n",
      "__________________________________________________________________________________________________\n",
      "batch_normalization_9 (BatchNor (None, 16, 16, 64)   256         conv2d_9[0][0]                   \n",
      "__________________________________________________________________________________________________\n",
      "conv2d_11 (Conv2D)              (None, 16, 16, 64)   2112        add_2[0][0]                      \n",
      "__________________________________________________________________________________________________\n",
      "activation_6 (Activation)       (None, 16, 16, 64)   0           batch_normalization_9[0][0]      \n",
      "__________________________________________________________________________________________________\n",
      "batch_normalization_10 (BatchNo (None, 16, 16, 64)   256         conv2d_11[0][0]                  \n",
      "__________________________________________________________________________________________________\n",
      "conv2d_10 (Conv2D)              (None, 16, 16, 64)   36928       activation_6[0][0]               \n",
      "__________________________________________________________________________________________________\n",
      "add_3 (Add)                     (None, 16, 16, 64)   0           batch_normalization_10[0][0]     \n",
      "                                                                 conv2d_10[0][0]                  \n",
      "__________________________________________________________________________________________________\n",
      "batch_normalization_11 (BatchNo (None, 16, 16, 64)   256         add_3[0][0]                      \n",
      "__________________________________________________________________________________________________\n",
      "activation_7 (Activation)       (None, 16, 16, 64)   0           batch_normalization_11[0][0]     \n",
      "__________________________________________________________________________________________________\n",
      "conv2d_12 (Conv2D)              (None, 8, 8, 128)    73856       activation_7[0][0]               \n",
      "__________________________________________________________________________________________________\n",
      "batch_normalization_12 (BatchNo (None, 8, 8, 128)    512         conv2d_12[0][0]                  \n",
      "__________________________________________________________________________________________________\n",
      "conv2d_14 (Conv2D)              (None, 8, 8, 128)    8320        add_3[0][0]                      \n",
      "__________________________________________________________________________________________________\n",
      "activation_8 (Activation)       (None, 8, 8, 128)    0           batch_normalization_12[0][0]     \n",
      "__________________________________________________________________________________________________\n",
      "batch_normalization_13 (BatchNo (None, 8, 8, 128)    512         conv2d_14[0][0]                  \n",
      "__________________________________________________________________________________________________\n",
      "conv2d_13 (Conv2D)              (None, 8, 8, 128)    147584      activation_8[0][0]               \n",
      "__________________________________________________________________________________________________\n",
      "add_4 (Add)                     (None, 8, 8, 128)    0           batch_normalization_13[0][0]     \n",
      "                                                                 conv2d_13[0][0]                  \n",
      "__________________________________________________________________________________________________\n",
      "batch_normalization_14 (BatchNo (None, 8, 8, 128)    512         add_4[0][0]                      \n",
      "__________________________________________________________________________________________________\n",
      "activation_9 (Activation)       (None, 8, 8, 128)    0           batch_normalization_14[0][0]     \n",
      "__________________________________________________________________________________________________\n",
      "conv2d_15 (Conv2D)              (None, 8, 8, 32)     36896       activation_9[0][0]               \n",
      "__________________________________________________________________________________________________\n",
      "batch_normalization_15 (BatchNo (None, 8, 8, 32)     128         conv2d_15[0][0]                  \n",
      "__________________________________________________________________________________________________\n",
      "activation_10 (Activation)      (None, 8, 8, 32)     0           batch_normalization_15[0][0]     \n",
      "__________________________________________________________________________________________________\n",
      "conv2d_16 (Conv2D)              (None, 8, 8, 32)     9248        activation_10[0][0]              \n",
      "__________________________________________________________________________________________________\n",
      "up_sampling2d (UpSampling2D)    (None, 16, 16, 32)   0           conv2d_16[0][0]                  \n",
      "__________________________________________________________________________________________________\n",
      "concatenate (Concatenate)       (None, 16, 16, 96)   0           up_sampling2d[0][0]              \n",
      "                                                                 add_3[0][0]                      \n",
      "__________________________________________________________________________________________________\n",
      "batch_normalization_16 (BatchNo (None, 16, 16, 96)   384         concatenate[0][0]                \n",
      "__________________________________________________________________________________________________\n",
      "activation_11 (Activation)      (None, 16, 16, 96)   0           batch_normalization_16[0][0]     \n",
      "__________________________________________________________________________________________________\n",
      "conv2d_17 (Conv2D)              (None, 16, 16, 32)   27680       activation_11[0][0]              \n",
      "__________________________________________________________________________________________________\n",
      "batch_normalization_17 (BatchNo (None, 16, 16, 32)   128         conv2d_17[0][0]                  \n",
      "__________________________________________________________________________________________________\n",
      "conv2d_19 (Conv2D)              (None, 16, 16, 32)   3104        concatenate[0][0]                \n",
      "__________________________________________________________________________________________________\n",
      "activation_12 (Activation)      (None, 16, 16, 32)   0           batch_normalization_17[0][0]     \n",
      "__________________________________________________________________________________________________\n",
      "batch_normalization_18 (BatchNo (None, 16, 16, 32)   128         conv2d_19[0][0]                  \n",
      "__________________________________________________________________________________________________\n",
      "conv2d_18 (Conv2D)              (None, 16, 16, 32)   9248        activation_12[0][0]              \n",
      "__________________________________________________________________________________________________\n",
      "add_5 (Add)                     (None, 16, 16, 32)   0           batch_normalization_18[0][0]     \n",
      "                                                                 conv2d_18[0][0]                  \n",
      "__________________________________________________________________________________________________\n",
      "up_sampling2d_1 (UpSampling2D)  (None, 32, 32, 32)   0           add_5[0][0]                      \n",
      "__________________________________________________________________________________________________\n",
      "concatenate_1 (Concatenate)     (None, 32, 32, 64)   0           up_sampling2d_1[0][0]            \n",
      "                                                                 add_2[0][0]                      \n",
      "__________________________________________________________________________________________________\n",
      "batch_normalization_19 (BatchNo (None, 32, 32, 64)   256         concatenate_1[0][0]              \n",
      "__________________________________________________________________________________________________\n",
      "activation_13 (Activation)      (None, 32, 32, 64)   0           batch_normalization_19[0][0]     \n",
      "__________________________________________________________________________________________________\n",
      "conv2d_20 (Conv2D)              (None, 32, 32, 16)   9232        activation_13[0][0]              \n",
      "__________________________________________________________________________________________________\n",
      "batch_normalization_20 (BatchNo (None, 32, 32, 16)   64          conv2d_20[0][0]                  \n",
      "__________________________________________________________________________________________________\n",
      "conv2d_22 (Conv2D)              (None, 32, 32, 16)   1040        concatenate_1[0][0]              \n",
      "__________________________________________________________________________________________________\n",
      "activation_14 (Activation)      (None, 32, 32, 16)   0           batch_normalization_20[0][0]     \n",
      "__________________________________________________________________________________________________\n",
      "batch_normalization_21 (BatchNo (None, 32, 32, 16)   64          conv2d_22[0][0]                  \n",
      "__________________________________________________________________________________________________\n",
      "conv2d_21 (Conv2D)              (None, 32, 32, 16)   2320        activation_14[0][0]              \n",
      "__________________________________________________________________________________________________\n",
      "add_6 (Add)                     (None, 32, 32, 16)   0           batch_normalization_21[0][0]     \n",
      "                                                                 conv2d_21[0][0]                  \n",
      "__________________________________________________________________________________________________\n",
      "up_sampling2d_2 (UpSampling2D)  (None, 64, 64, 16)   0           add_6[0][0]                      \n",
      "__________________________________________________________________________________________________\n",
      "concatenate_2 (Concatenate)     (None, 64, 64, 32)   0           up_sampling2d_2[0][0]            \n",
      "                                                                 add_1[0][0]                      \n",
      "__________________________________________________________________________________________________\n",
      "batch_normalization_22 (BatchNo (None, 64, 64, 32)   128         concatenate_2[0][0]              \n",
      "__________________________________________________________________________________________________\n",
      "activation_15 (Activation)      (None, 64, 64, 32)   0           batch_normalization_22[0][0]     \n",
      "__________________________________________________________________________________________________\n",
      "conv2d_23 (Conv2D)              (None, 64, 64, 32)   9248        activation_15[0][0]              \n",
      "__________________________________________________________________________________________________\n",
      "batch_normalization_23 (BatchNo (None, 64, 64, 32)   128         conv2d_23[0][0]                  \n",
      "__________________________________________________________________________________________________\n",
      "conv2d_25 (Conv2D)              (None, 64, 64, 32)   1056        concatenate_2[0][0]              \n",
      "__________________________________________________________________________________________________\n",
      "activation_16 (Activation)      (None, 64, 64, 32)   0           batch_normalization_23[0][0]     \n",
      "__________________________________________________________________________________________________\n",
      "batch_normalization_24 (BatchNo (None, 64, 64, 32)   128         conv2d_25[0][0]                  \n",
      "__________________________________________________________________________________________________\n",
      "conv2d_24 (Conv2D)              (None, 64, 64, 32)   9248        activation_16[0][0]              \n",
      "__________________________________________________________________________________________________\n",
      "add_7 (Add)                     (None, 64, 64, 32)   0           batch_normalization_24[0][0]     \n",
      "                                                                 conv2d_24[0][0]                  \n",
      "__________________________________________________________________________________________________\n",
      "up_sampling2d_3 (UpSampling2D)  (None, 128, 128, 32) 0           add_7[0][0]                      \n",
      "__________________________________________________________________________________________________\n",
      "concatenate_3 (Concatenate)     (None, 128, 128, 40) 0           up_sampling2d_3[0][0]            \n",
      "                                                                 add[0][0]                        \n",
      "__________________________________________________________________________________________________\n",
      "batch_normalization_25 (BatchNo (None, 128, 128, 40) 160         concatenate_3[0][0]              \n",
      "__________________________________________________________________________________________________\n",
      "activation_17 (Activation)      (None, 128, 128, 40) 0           batch_normalization_25[0][0]     \n",
      "__________________________________________________________________________________________________\n",
      "conv2d_26 (Conv2D)              (None, 128, 128, 16) 5776        activation_17[0][0]              \n",
      "__________________________________________________________________________________________________\n",
      "batch_normalization_26 (BatchNo (None, 128, 128, 16) 64          conv2d_26[0][0]                  \n",
      "__________________________________________________________________________________________________\n",
      "conv2d_28 (Conv2D)              (None, 128, 128, 16) 656         concatenate_3[0][0]              \n",
      "__________________________________________________________________________________________________\n",
      "activation_18 (Activation)      (None, 128, 128, 16) 0           batch_normalization_26[0][0]     \n",
      "__________________________________________________________________________________________________\n",
      "batch_normalization_27 (BatchNo (None, 128, 128, 16) 64          conv2d_28[0][0]                  \n",
      "__________________________________________________________________________________________________\n",
      "conv2d_27 (Conv2D)              (None, 128, 128, 16) 2320        activation_18[0][0]              \n",
      "__________________________________________________________________________________________________\n",
      "add_8 (Add)                     (None, 128, 128, 16) 0           batch_normalization_27[0][0]     \n",
      "                                                                 conv2d_27[0][0]                  \n",
      "__________________________________________________________________________________________________\n",
      "conv2d_29 (Conv2D)              (None, 128, 128, 1)  17          add_8[0][0]                      \n",
      "==================================================================================================\n",
      "Total params: 437,929\n",
      "Trainable params: 435,529\n",
      "Non-trainable params: 2,400\n",
      "__________________________________________________________________________________________________\n"
     ]
    }
   ],
   "source": [
    "model.summary()"
   ]
  },
  {
   "cell_type": "code",
   "execution_count": 13,
   "metadata": {},
   "outputs": [],
   "source": [
    "early_stop = EarlyStopping(monitor='val_loss', patience=5, verbose=1) #early stop incase no improvement in the validation loss\n",
    "checkpoint = ModelCheckpoint(filepath='./model_checkpoints/', save_best_only=True, save_weights_only=True,monitor='val_avg_log_SNR', mode='max', verbose=1) # store the weights\n",
    "log_csv = CSVLogger('Logs/resnet_150.csv', separator=',', append=False) #### To store the train and validation loss\n",
    "reduce_lr = tf.keras.callbacks.ReduceLROnPlateau(monitor='val_loss', factor=0.5,\n",
    "                               patience=6, min_lr=0.0000001) # reduce the learning rate incase we want\n",
    "\n",
    "save_best_model = tf.keras.callbacks.ModelCheckpoint(\"Checkpoints/resnet_150.hdf5\", monitor='val_loss', save_best_only=True, verbose=1)\n",
    "\n",
    "callbacks_list = [log_csv] ### If we need early stop add that parameter here \n"
   ]
  },
  {
   "cell_type": "code",
   "execution_count": 14,
   "metadata": {},
   "outputs": [
    {
     "name": "stderr",
     "output_type": "stream",
     "text": [
      "/home/fistlab/anaconda3/envs/tf310/lib/python3.9/site-packages/tensorflow/python/data/ops/dataset_ops.py:4211: UserWarning: Even though the `tf.config.experimental_run_functions_eagerly` option is set, this option does not apply to tf.data functions. To force eager execution of tf.data functions, please use `tf.data.experimental.enable_debug_mode()`.\n",
      "  warnings.warn(\n",
      "2022-08-27 08:27:40.121559: I tensorflow/compiler/mlir/mlir_graph_optimization_pass.cc:185] None of the MLIR Optimization Passes are enabled (registered 2)\n"
     ]
    },
    {
     "name": "stdout",
     "output_type": "stream",
     "text": [
      "Epoch 1/100\n"
     ]
    },
    {
     "name": "stderr",
     "output_type": "stream",
     "text": [
      "2022-08-27 08:27:40.383423: I tensorflow/stream_executor/cuda/cuda_dnn.cc:369] Loaded cuDNN version 8201\n",
      "2022-08-27 08:27:40.627012: I tensorflow/core/platform/default/subprocess.cc:304] Start cannot spawn child process: No such file or directory\n",
      "2022-08-27 08:27:40.627200: I tensorflow/core/platform/default/subprocess.cc:304] Start cannot spawn child process: No such file or directory\n",
      "2022-08-27 08:27:40.627217: W tensorflow/stream_executor/gpu/asm_compiler.cc:77] Couldn't get ptxas version string: Internal: Couldn't invoke ptxas --version\n",
      "2022-08-27 08:27:40.627454: I tensorflow/core/platform/default/subprocess.cc:304] Start cannot spawn child process: No such file or directory\n",
      "2022-08-27 08:27:40.627522: W tensorflow/stream_executor/gpu/redzone_allocator.cc:314] Internal: Failed to launch ptxas\n",
      "Relying on driver to perform ptx compilation. \n",
      "Modify $PATH to customize ptxas location.\n",
      "This message will be only logged once.\n"
     ]
    },
    {
     "name": "stdout",
     "output_type": "stream",
     "text": [
      "309/309 [==============================] - 33s 100ms/step - loss: 0.4943 - avg_log_SNR: 7.2812 - val_loss: 0.3445 - val_avg_log_SNR: 9.5867\n",
      "Epoch 2/100\n",
      "309/309 [==============================] - 29s 94ms/step - loss: 0.2948 - avg_log_SNR: 11.0390 - val_loss: 0.2959 - val_avg_log_SNR: 10.9233\n",
      "Epoch 3/100\n",
      "309/309 [==============================] - 29s 94ms/step - loss: 0.2541 - avg_log_SNR: 12.2873 - val_loss: 0.2534 - val_avg_log_SNR: 12.2857\n",
      "Epoch 4/100\n",
      "309/309 [==============================] - 29s 94ms/step - loss: 0.2288 - avg_log_SNR: 13.1958 - val_loss: 0.2299 - val_avg_log_SNR: 13.1630\n",
      "Epoch 5/100\n",
      "309/309 [==============================] - 29s 95ms/step - loss: 0.2120 - avg_log_SNR: 13.8761 - val_loss: 0.2124 - val_avg_log_SNR: 13.8256\n",
      "Epoch 6/100\n",
      "309/309 [==============================] - 29s 95ms/step - loss: 0.2000 - avg_log_SNR: 14.3657 - val_loss: 0.2101 - val_avg_log_SNR: 13.9381\n",
      "Epoch 7/100\n",
      "309/309 [==============================] - 29s 95ms/step - loss: 0.1937 - avg_log_SNR: 14.6365 - val_loss: 0.1957 - val_avg_log_SNR: 14.6481\n",
      "Epoch 8/100\n",
      "309/309 [==============================] - 29s 95ms/step - loss: 0.1869 - avg_log_SNR: 14.9394 - val_loss: 0.1883 - val_avg_log_SNR: 14.9300\n",
      "Epoch 9/100\n",
      "309/309 [==============================] - 29s 95ms/step - loss: 0.1809 - avg_log_SNR: 15.2343 - val_loss: 0.1930 - val_avg_log_SNR: 14.6844\n",
      "Epoch 10/100\n",
      "309/309 [==============================] - 29s 95ms/step - loss: 0.1751 - avg_log_SNR: 15.5009 - val_loss: 0.1837 - val_avg_log_SNR: 15.1241\n",
      "Epoch 11/100\n",
      "309/309 [==============================] - 30s 96ms/step - loss: 0.1725 - avg_log_SNR: 15.6141 - val_loss: 0.2181 - val_avg_log_SNR: 13.4926\n",
      "Epoch 12/100\n",
      "309/309 [==============================] - 29s 95ms/step - loss: 0.1702 - avg_log_SNR: 15.7187 - val_loss: 0.1998 - val_avg_log_SNR: 14.2798\n",
      "Epoch 13/100\n",
      "309/309 [==============================] - 30s 96ms/step - loss: 0.1657 - avg_log_SNR: 15.9606 - val_loss: 0.1802 - val_avg_log_SNR: 15.2515\n",
      "Epoch 14/100\n",
      "309/309 [==============================] - 30s 96ms/step - loss: 0.1671 - avg_log_SNR: 15.8923 - val_loss: 0.1799 - val_avg_log_SNR: 15.3268\n",
      "Epoch 15/100\n",
      "309/309 [==============================] - 30s 96ms/step - loss: 0.1618 - avg_log_SNR: 16.1499 - val_loss: 0.1710 - val_avg_log_SNR: 15.7411\n",
      "Epoch 16/100\n",
      "309/309 [==============================] - 30s 96ms/step - loss: 0.1633 - avg_log_SNR: 16.0813 - val_loss: 0.1716 - val_avg_log_SNR: 15.6815\n",
      "Epoch 17/100\n",
      "309/309 [==============================] - 29s 95ms/step - loss: 0.1596 - avg_log_SNR: 16.2682 - val_loss: 0.1713 - val_avg_log_SNR: 15.7427\n",
      "Epoch 18/100\n",
      "309/309 [==============================] - 30s 96ms/step - loss: 0.1596 - avg_log_SNR: 16.2918 - val_loss: 0.3371 - val_avg_log_SNR: 9.9015\n",
      "Epoch 19/100\n",
      "309/309 [==============================] - 30s 96ms/step - loss: 0.1624 - avg_log_SNR: 16.1692 - val_loss: 0.1644 - val_avg_log_SNR: 16.1251\n",
      "Epoch 20/100\n",
      "309/309 [==============================] - 30s 96ms/step - loss: 0.1550 - avg_log_SNR: 16.5319 - val_loss: 0.1643 - val_avg_log_SNR: 16.0929\n",
      "Epoch 21/100\n",
      "309/309 [==============================] - 30s 96ms/step - loss: 0.1530 - avg_log_SNR: 16.6248 - val_loss: 0.1576 - val_avg_log_SNR: 16.4482\n",
      "Epoch 22/100\n",
      "309/309 [==============================] - 30s 96ms/step - loss: 0.1519 - avg_log_SNR: 16.6895 - val_loss: 0.1630 - val_avg_log_SNR: 16.1483\n",
      "Epoch 23/100\n",
      "309/309 [==============================] - 30s 96ms/step - loss: 0.1506 - avg_log_SNR: 16.7551 - val_loss: 0.1576 - val_avg_log_SNR: 16.4823\n",
      "Epoch 24/100\n",
      "309/309 [==============================] - 30s 96ms/step - loss: 0.1499 - avg_log_SNR: 16.8086 - val_loss: 0.1522 - val_avg_log_SNR: 16.7807\n",
      "Epoch 25/100\n",
      "309/309 [==============================] - 30s 96ms/step - loss: 0.1491 - avg_log_SNR: 16.8539 - val_loss: 0.1591 - val_avg_log_SNR: 16.3478\n",
      "Epoch 26/100\n",
      "309/309 [==============================] - 30s 96ms/step - loss: 0.1471 - avg_log_SNR: 16.9663 - val_loss: 0.1532 - val_avg_log_SNR: 16.6983\n",
      "Epoch 27/100\n",
      "309/309 [==============================] - 29s 92ms/step - loss: 0.1479 - avg_log_SNR: 16.9065 - val_loss: 0.1549 - val_avg_log_SNR: 16.6227\n",
      "Epoch 28/100\n",
      "309/309 [==============================] - 29s 93ms/step - loss: 0.1459 - avg_log_SNR: 17.0242 - val_loss: 0.1546 - val_avg_log_SNR: 16.6450\n",
      "Epoch 29/100\n",
      "309/309 [==============================] - 29s 92ms/step - loss: 0.1456 - avg_log_SNR: 17.0437 - val_loss: 0.1513 - val_avg_log_SNR: 16.8218\n",
      "Epoch 30/100\n",
      "309/309 [==============================] - 29s 93ms/step - loss: 0.1443 - avg_log_SNR: 17.1257 - val_loss: 0.1521 - val_avg_log_SNR: 16.7728\n",
      "Epoch 31/100\n",
      "309/309 [==============================] - 29s 93ms/step - loss: 0.1445 - avg_log_SNR: 17.1092 - val_loss: 0.1575 - val_avg_log_SNR: 16.4583\n",
      "Epoch 32/100\n",
      "309/309 [==============================] - 29s 92ms/step - loss: 0.1439 - avg_log_SNR: 17.1388 - val_loss: 0.1448 - val_avg_log_SNR: 17.2020\n",
      "Epoch 33/100\n",
      "309/309 [==============================] - 29s 93ms/step - loss: 0.1428 - avg_log_SNR: 17.2075 - val_loss: 0.1571 - val_avg_log_SNR: 16.4584\n",
      "Epoch 34/100\n",
      "309/309 [==============================] - 29s 93ms/step - loss: 0.1422 - avg_log_SNR: 17.2576 - val_loss: 0.1482 - val_avg_log_SNR: 17.0127\n",
      "Epoch 35/100\n",
      "309/309 [==============================] - 29s 92ms/step - loss: 0.1408 - avg_log_SNR: 17.3292 - val_loss: 0.1485 - val_avg_log_SNR: 16.9787\n",
      "Epoch 36/100\n",
      "309/309 [==============================] - 29s 93ms/step - loss: 0.1393 - avg_log_SNR: 17.4237 - val_loss: 0.1438 - val_avg_log_SNR: 17.2689\n",
      "Epoch 37/100\n",
      "309/309 [==============================] - 29s 93ms/step - loss: 0.1394 - avg_log_SNR: 17.4120 - val_loss: 0.1475 - val_avg_log_SNR: 17.0282\n",
      "Epoch 38/100\n",
      "309/309 [==============================] - 29s 92ms/step - loss: 0.1387 - avg_log_SNR: 17.4622 - val_loss: 0.1460 - val_avg_log_SNR: 17.1262\n",
      "Epoch 39/100\n",
      "309/309 [==============================] - 29s 93ms/step - loss: 0.1389 - avg_log_SNR: 17.4560 - val_loss: 0.1432 - val_avg_log_SNR: 17.2930\n",
      "Epoch 40/100\n",
      "309/309 [==============================] - 29s 93ms/step - loss: 0.1372 - avg_log_SNR: 17.5495 - val_loss: 0.1491 - val_avg_log_SNR: 16.9943\n",
      "Epoch 41/100\n",
      "309/309 [==============================] - 29s 92ms/step - loss: 0.1374 - avg_log_SNR: 17.5439 - val_loss: 0.1435 - val_avg_log_SNR: 17.3042\n",
      "Epoch 42/100\n",
      "309/309 [==============================] - 29s 93ms/step - loss: 0.1349 - avg_log_SNR: 17.6882 - val_loss: 0.1427 - val_avg_log_SNR: 17.3473\n",
      "Epoch 43/100\n",
      "309/309 [==============================] - 29s 93ms/step - loss: 0.1353 - avg_log_SNR: 17.6641 - val_loss: 0.1462 - val_avg_log_SNR: 17.1209\n",
      "Epoch 44/100\n",
      "309/309 [==============================] - 29s 93ms/step - loss: 0.1361 - avg_log_SNR: 17.6349 - val_loss: 0.1417 - val_avg_log_SNR: 17.3993\n",
      "Epoch 45/100\n",
      "309/309 [==============================] - 29s 92ms/step - loss: 0.1346 - avg_log_SNR: 17.7133 - val_loss: 0.1459 - val_avg_log_SNR: 17.1300\n",
      "Epoch 46/100\n",
      "309/309 [==============================] - 29s 93ms/step - loss: 0.1336 - avg_log_SNR: 17.7826 - val_loss: 0.1388 - val_avg_log_SNR: 17.5882\n",
      "Epoch 47/100\n",
      "309/309 [==============================] - 28s 92ms/step - loss: 0.1336 - avg_log_SNR: 17.7771 - val_loss: 0.1396 - val_avg_log_SNR: 17.5397\n",
      "Epoch 48/100\n",
      "309/309 [==============================] - 29s 93ms/step - loss: 0.1330 - avg_log_SNR: 17.8170 - val_loss: 0.1400 - val_avg_log_SNR: 17.5229\n",
      "Epoch 49/100\n",
      "309/309 [==============================] - 29s 93ms/step - loss: 0.1320 - avg_log_SNR: 17.8727 - val_loss: 0.1391 - val_avg_log_SNR: 17.5560\n",
      "Epoch 50/100\n",
      "309/309 [==============================] - 29s 93ms/step - loss: 0.1323 - avg_log_SNR: 17.8636 - val_loss: 0.1412 - val_avg_log_SNR: 17.4204\n",
      "Epoch 51/100\n",
      "309/309 [==============================] - 29s 93ms/step - loss: 0.1318 - avg_log_SNR: 17.8869 - val_loss: 0.1403 - val_avg_log_SNR: 17.4897\n",
      "Epoch 52/100\n",
      "309/309 [==============================] - 29s 93ms/step - loss: 0.1311 - avg_log_SNR: 17.9343 - val_loss: 0.1408 - val_avg_log_SNR: 17.4800\n",
      "Epoch 53/100\n",
      "309/309 [==============================] - 29s 93ms/step - loss: 0.1311 - avg_log_SNR: 17.9371 - val_loss: 0.1361 - val_avg_log_SNR: 17.7584\n",
      "Epoch 54/100\n",
      "309/309 [==============================] - 29s 93ms/step - loss: 0.1299 - avg_log_SNR: 18.0219 - val_loss: 0.1395 - val_avg_log_SNR: 17.5574\n",
      "Epoch 55/100\n",
      "309/309 [==============================] - 29s 93ms/step - loss: 0.1298 - avg_log_SNR: 18.0306 - val_loss: 0.1343 - val_avg_log_SNR: 17.9042\n",
      "Epoch 56/100\n",
      "309/309 [==============================] - 29s 93ms/step - loss: 0.1287 - avg_log_SNR: 18.1029 - val_loss: 0.1376 - val_avg_log_SNR: 17.6705\n",
      "Epoch 57/100\n",
      "309/309 [==============================] - 29s 93ms/step - loss: 0.1301 - avg_log_SNR: 18.0060 - val_loss: 0.1375 - val_avg_log_SNR: 17.6729\n",
      "Epoch 58/100\n",
      "309/309 [==============================] - 29s 92ms/step - loss: 0.1285 - avg_log_SNR: 18.1209 - val_loss: 0.1401 - val_avg_log_SNR: 17.4830\n",
      "Epoch 59/100\n",
      "309/309 [==============================] - 29s 93ms/step - loss: 0.1272 - avg_log_SNR: 18.1970 - val_loss: 0.1423 - val_avg_log_SNR: 17.3617\n",
      "Epoch 60/100\n",
      "309/309 [==============================] - 29s 93ms/step - loss: 0.1279 - avg_log_SNR: 18.1431 - val_loss: 0.1380 - val_avg_log_SNR: 17.6426\n",
      "Epoch 61/100\n",
      "309/309 [==============================] - 28s 92ms/step - loss: 0.1276 - avg_log_SNR: 18.1755 - val_loss: 0.1357 - val_avg_log_SNR: 17.7911\n",
      "Epoch 62/100\n",
      "309/309 [==============================] - 29s 93ms/step - loss: 0.1271 - avg_log_SNR: 18.2019 - val_loss: 0.1352 - val_avg_log_SNR: 17.8330\n",
      "Epoch 63/100\n",
      "309/309 [==============================] - 29s 93ms/step - loss: 0.1262 - avg_log_SNR: 18.2631 - val_loss: 0.1357 - val_avg_log_SNR: 17.8405\n",
      "Epoch 64/100\n",
      "309/309 [==============================] - 29s 93ms/step - loss: 0.1307 - avg_log_SNR: 17.9862 - val_loss: 0.1371 - val_avg_log_SNR: 17.7593\n",
      "Epoch 65/100\n",
      "309/309 [==============================] - 29s 93ms/step - loss: 0.1268 - avg_log_SNR: 18.2290 - val_loss: 0.1355 - val_avg_log_SNR: 17.8005\n",
      "Epoch 66/100\n",
      "309/309 [==============================] - 29s 93ms/step - loss: 0.1259 - avg_log_SNR: 18.2760 - val_loss: 0.1371 - val_avg_log_SNR: 17.6836\n",
      "Epoch 67/100\n",
      "309/309 [==============================] - 29s 94ms/step - loss: 0.1256 - avg_log_SNR: 18.3010 - val_loss: 0.1326 - val_avg_log_SNR: 17.9821\n",
      "Epoch 68/100\n",
      "309/309 [==============================] - 29s 92ms/step - loss: 0.1252 - avg_log_SNR: 18.3344 - val_loss: 0.1406 - val_avg_log_SNR: 17.4778\n",
      "Epoch 69/100\n",
      "309/309 [==============================] - 29s 93ms/step - loss: 0.1256 - avg_log_SNR: 18.3082 - val_loss: 0.1311 - val_avg_log_SNR: 18.1139\n",
      "Epoch 70/100\n",
      "309/309 [==============================] - 29s 93ms/step - loss: 0.1250 - avg_log_SNR: 18.3458 - val_loss: 0.1337 - val_avg_log_SNR: 17.9218\n",
      "Epoch 71/100\n",
      "309/309 [==============================] - 29s 94ms/step - loss: 0.1234 - avg_log_SNR: 18.4509 - val_loss: 0.1342 - val_avg_log_SNR: 17.9103\n",
      "Epoch 72/100\n",
      "309/309 [==============================] - 29s 93ms/step - loss: 0.1234 - avg_log_SNR: 18.4587 - val_loss: 0.1316 - val_avg_log_SNR: 18.0703\n",
      "Epoch 73/100\n",
      "309/309 [==============================] - 29s 93ms/step - loss: 0.1234 - avg_log_SNR: 18.4425 - val_loss: 0.1321 - val_avg_log_SNR: 18.0160\n",
      "Epoch 74/100\n",
      "309/309 [==============================] - 29s 93ms/step - loss: 0.1241 - avg_log_SNR: 18.4199 - val_loss: 0.1292 - val_avg_log_SNR: 18.2473\n",
      "Epoch 75/100\n",
      "309/309 [==============================] - 29s 94ms/step - loss: 0.1236 - avg_log_SNR: 18.4463 - val_loss: 0.1318 - val_avg_log_SNR: 18.0661\n",
      "Epoch 76/100\n",
      "309/309 [==============================] - 29s 93ms/step - loss: 0.1227 - avg_log_SNR: 18.4967 - val_loss: 0.1297 - val_avg_log_SNR: 18.2005\n",
      "Epoch 77/100\n",
      "309/309 [==============================] - 29s 93ms/step - loss: 0.1225 - avg_log_SNR: 18.5164 - val_loss: 0.1311 - val_avg_log_SNR: 18.1297\n",
      "Epoch 78/100\n",
      "309/309 [==============================] - 29s 93ms/step - loss: 0.1218 - avg_log_SNR: 18.5713 - val_loss: 0.1300 - val_avg_log_SNR: 18.1791\n",
      "Epoch 79/100\n",
      "309/309 [==============================] - 29s 93ms/step - loss: 0.1230 - avg_log_SNR: 18.4867 - val_loss: 0.1295 - val_avg_log_SNR: 18.2141\n",
      "Epoch 80/100\n",
      "309/309 [==============================] - 29s 93ms/step - loss: 0.1220 - avg_log_SNR: 18.5639 - val_loss: 0.1302 - val_avg_log_SNR: 18.1893\n",
      "Epoch 81/100\n",
      "309/309 [==============================] - 28s 92ms/step - loss: 0.1211 - avg_log_SNR: 18.6116 - val_loss: 0.1287 - val_avg_log_SNR: 18.2790\n",
      "Epoch 82/100\n",
      "309/309 [==============================] - 28s 92ms/step - loss: 0.1218 - avg_log_SNR: 18.5652 - val_loss: 0.1345 - val_avg_log_SNR: 17.8695\n",
      "Epoch 83/100\n",
      "309/309 [==============================] - 29s 93ms/step - loss: 0.1214 - avg_log_SNR: 18.6146 - val_loss: 0.1283 - val_avg_log_SNR: 18.3084\n",
      "Epoch 84/100\n",
      "309/309 [==============================] - 28s 92ms/step - loss: 0.1204 - avg_log_SNR: 18.6552 - val_loss: 0.1296 - val_avg_log_SNR: 18.2043\n",
      "Epoch 85/100\n",
      "309/309 [==============================] - 28s 92ms/step - loss: 0.1212 - avg_log_SNR: 18.6069 - val_loss: 0.1279 - val_avg_log_SNR: 18.3414\n",
      "Epoch 86/100\n",
      "309/309 [==============================] - 29s 93ms/step - loss: 0.1205 - avg_log_SNR: 18.6662 - val_loss: 0.1291 - val_avg_log_SNR: 18.2148\n",
      "Epoch 87/100\n",
      "309/309 [==============================] - 29s 92ms/step - loss: 0.1197 - avg_log_SNR: 18.7137 - val_loss: 0.1292 - val_avg_log_SNR: 18.2520\n",
      "Epoch 88/100\n",
      "309/309 [==============================] - 29s 93ms/step - loss: 0.1197 - avg_log_SNR: 18.7191 - val_loss: 0.1275 - val_avg_log_SNR: 18.3535\n",
      "Epoch 89/100\n",
      "309/309 [==============================] - 29s 92ms/step - loss: 0.1203 - avg_log_SNR: 18.6794 - val_loss: 0.1298 - val_avg_log_SNR: 18.1912\n",
      "Epoch 90/100\n",
      "309/309 [==============================] - 29s 92ms/step - loss: 0.1197 - avg_log_SNR: 18.7196 - val_loss: 0.1271 - val_avg_log_SNR: 18.3737\n",
      "Epoch 91/100\n",
      "309/309 [==============================] - 28s 92ms/step - loss: 0.1199 - avg_log_SNR: 18.7027 - val_loss: 0.1269 - val_avg_log_SNR: 18.3989\n",
      "Epoch 92/100\n",
      "309/309 [==============================] - 28s 92ms/step - loss: 0.1195 - avg_log_SNR: 18.7287 - val_loss: 0.1271 - val_avg_log_SNR: 18.3938\n",
      "Epoch 93/100\n",
      "309/309 [==============================] - 29s 92ms/step - loss: 0.1189 - avg_log_SNR: 18.7685 - val_loss: 0.1283 - val_avg_log_SNR: 18.2878\n",
      "Epoch 94/100\n",
      "309/309 [==============================] - 28s 92ms/step - loss: 0.1184 - avg_log_SNR: 18.8166 - val_loss: 0.1293 - val_avg_log_SNR: 18.2088\n",
      "Epoch 95/100\n",
      "309/309 [==============================] - 28s 92ms/step - loss: 0.1181 - avg_log_SNR: 18.8321 - val_loss: 0.1258 - val_avg_log_SNR: 18.4841\n",
      "Epoch 96/100\n",
      "309/309 [==============================] - 29s 93ms/step - loss: 0.1181 - avg_log_SNR: 18.8283 - val_loss: 0.1270 - val_avg_log_SNR: 18.3625\n",
      "Epoch 97/100\n",
      "309/309 [==============================] - 29s 92ms/step - loss: 0.1188 - avg_log_SNR: 18.7826 - val_loss: 0.1251 - val_avg_log_SNR: 18.5278\n",
      "Epoch 98/100\n",
      "309/309 [==============================] - 29s 92ms/step - loss: 0.1181 - avg_log_SNR: 18.8266 - val_loss: 0.1252 - val_avg_log_SNR: 18.5204\n",
      "Epoch 99/100\n",
      "309/309 [==============================] - 28s 92ms/step - loss: 0.1174 - avg_log_SNR: 18.8892 - val_loss: 0.1283 - val_avg_log_SNR: 18.2895\n",
      "Epoch 100/100\n",
      "309/309 [==============================] - 28s 92ms/step - loss: 0.1171 - avg_log_SNR: 18.9026 - val_loss: 0.1235 - val_avg_log_SNR: 18.6491\n",
      "Time:  0:48:08.382296\n"
     ]
    }
   ],
   "source": [
    "start = datetime.now()\n",
    "# model = tf.keras.models.load_model(\"Checkpoints/model_resnet.hdf5\", compile=False)\n",
    "# model.compile(optimizer=Adam(learning_rate = 1e-3), loss=avg_NSR, metrics=[avg_log_SNR])\n",
    "history = model.fit(X_train, y_train, validation_data=(X_test, y_test), batch_size=32, epochs=100, callbacks=callbacks_list)\n",
    "\n",
    "end = datetime.now()\n",
    "time_taken = end - start\n",
    "print('Time: ',time_taken) "
   ]
  },
  {
   "cell_type": "code",
   "execution_count": 15,
   "metadata": {},
   "outputs": [
    {
     "data": {
      "text/plain": [
       "<matplotlib.image.AxesImage at 0x7f75980f9ee0>"
      ]
     },
     "execution_count": 15,
     "metadata": {},
     "output_type": "execute_result"
    },
    {
     "data": {
      "image/png": "[encoded data removed]",
      "text/plain": [
       "<Figure size 432x288 with 1 Axes>"
      ]
     },
     "metadata": {
      "needs_background": "light"
     },
     "output_type": "display_data"
    }
   ],
   "source": [
    "x=31\n",
    "\n",
    "test = model.predict(np.expand_dims(X_test[x], axis=0))\n",
    "plt.imshow(test.squeeze(), cmap='gray')\n"
   ]
  },
  {
   "cell_type": "code",
   "execution_count": 16,
   "metadata": {},
   "outputs": [
    {
     "data": {
      "text/plain": [
       "<matplotlib.image.AxesImage at 0x7f759803cc70>"
      ]
     },
     "execution_count": 16,
     "metadata": {},
     "output_type": "execute_result"
    },
    {
     "data": {
      "image/png": "[encoded data removed]",
      "text/plain": [
       "<Figure size 432x288 with 1 Axes>"
      ]
     },
     "metadata": {
      "needs_background": "light"
     },
     "output_type": "display_data"
    }
   ],
   "source": [
    "train = y_test[x]\n",
    "plt.imshow(train, cmap='gray')"
   ]
  },
  {
   "cell_type": "code",
   "execution_count": 17,
   "metadata": {},
   "outputs": [
    {
     "name": "stderr",
     "output_type": "stream",
     "text": [
      "2022-08-27 09:15:51.930174: W tensorflow/python/util/util.cc:348] Sets are not currently considered sequences, but this may change in the future, so consider avoiding using them.\n"
     ]
    },
    {
     "name": "stdout",
     "output_type": "stream",
     "text": [
      "INFO:tensorflow:Assets written to: Checkpoints/resnet_final_150/assets\n"
     ]
    },
    {
     "name": "stderr",
     "output_type": "stream",
     "text": [
      "/home/fistlab/anaconda3/envs/tf310/lib/python3.9/site-packages/keras/utils/generic_utils.py:494: CustomMaskWarning: Custom mask layers require a config and must override get_config. When loading, the custom mask layer must be passed to the custom_objects argument.\n",
      "  warnings.warn('Custom mask layers require a config and must override '\n"
     ]
    }
   ],
   "source": [
    "model.save(\"Checkpoints/resnet_final_150\")"
   ]
  },
  {
   "cell_type": "code",
   "execution_count": 18,
   "metadata": {},
   "outputs": [],
   "source": [
    "# mat = sio.loadmat('test/1.mat')\n",
    "# mat['P'].shape"
   ]
  },
  {
   "cell_type": "code",
   "execution_count": 9,
   "metadata": {},
   "outputs": [],
   "source": [
    "def read_data(path, test_size=0.25):\n",
    "    \n",
    "    ground_truth = []\n",
    "    sensor_data = []\n",
    "    count = 0\n",
    "    for filename in glob.glob(path):\n",
    "        mat = sio.loadmat(filename)\n",
    "        truth = mat[\"gt\"]\n",
    "        sensor = mat[\"P\"]\n",
    "\n",
    "        # sensor = normalize_sensor_data(sensor)\n",
    "        \n",
    "        \n",
    "        # gt = (truth - min_gt) / (max_gt - min_gt)\n",
    "        # gt = np.expand_dims(gt, axis=0)\n",
    "        # sensor_norm = np.expand_dims(sensor_norm, axis=0)\n",
    "        temp = sensor\n",
    "        # print(temp.shape)\n",
    "        # temp = np.append(sensor.real, sensor.imag)\n",
    "\n",
    "        # P_min = np.amin(temp)\n",
    "        # P_max = np.amax(temp)\n",
    "\n",
    "        # sensor_norm = (temp - P_min) / (temp - P_min)\n",
    "        # temp = sensor_norm\n",
    "\n",
    "        # temp = np.reshape(temp, (ph_size, ph_size))\n",
    "        temp = np.asarray(temp)\n",
    "        ground_truth.append(truth)\n",
    "        sensor_data.append(temp)\n",
    "    temp_gt = []\n",
    "    temp_sens = []\n",
    "    for i in range(len(ground_truth)):\n",
    "        if np.isnan(ground_truth[i]).any() == False:\n",
    "            temp_gt.append(ground_truth[i])\n",
    "            temp_sens.append(sensor_data[i])\n",
    "    ground_truth = temp_gt\n",
    "    sensor_data = temp_sens\n",
    "    \n",
    "#     ground_truth = [i for i in ground_truth if np.isnan(i).any() == False]\n",
    "#     sensor_data = [i for i in sensor_data if np.isnan(i).any() == False]\n",
    "    \n",
    "    X_train, X_test, y_train, y_test = train_test_split(sensor_data,ground_truth, test_size=test_size, random_state=22)\n",
    "    X_train = np.asarray(X_train)\n",
    "    X_test = np.asarray(X_test)\n",
    "    y_train = np.asarray(y_train)\n",
    "    y_test = np.asarray(y_test)\n",
    "    # X_train = np.reshape(X_train, (np.asarray(X_train).shape[0], 1, np.asarray(X_train).shape[1]))\n",
    "    # X_test = np.reshape(X_test, (np.asarray(X_test).shape[0], 1, np.asarray(X_test).shape[1]))\n",
    "    # y_train = np.reshape(y_train, (np.asarray(y_train).shape[0], 1, np.asarray(y_train).shape[1]))\n",
    "    # y_test = np.reshape(y_test, (np.asarray(y_test).shape[0], 1, np.asarray(y_test).shape[1]))\n",
    "    # X_train = np.expand_dims(X_train, axis=-1)\n",
    "    # X_test = np.expand_dims(X_test, axis=-1)\n",
    "    # y_train = np.expand_dims(y_train, axis=-1)\n",
    "    # y_test = np.expand_dims(y_test, axis=-1)\n",
    "    return X_train, X_test, y_train, y_test"
   ]
  },
  {
   "cell_type": "code",
   "execution_count": 10,
   "metadata": {},
   "outputs": [
    {
     "name": "stdout",
     "output_type": "stream",
     "text": [
      "Data read : \n",
      "X_train = 4460\n",
      "y_train = 4460\n",
      "X_test = 788\n",
      "y_test = 788\n"
     ]
    },
    {
     "data": {
      "text/plain": [
       "(788, 128, 64)"
      ]
     },
     "execution_count": 10,
     "metadata": {},
     "output_type": "execute_result"
    }
   ],
   "source": [
    "X_train, X_test, y_train, y_test = read_data(path, test_size=test_size)\n",
    "\n",
    "print(\"Data read : \\nX_train = {}\\ny_train = {}\\nX_test = {}\\ny_test = {}\".format(len(X_train), len(y_train), len(X_test), len(y_test)))\n",
    "X_test.shape"
   ]
  },
  {
   "cell_type": "code",
   "execution_count": 22,
   "metadata": {},
   "outputs": [],
   "source": [
    "x = 783\n",
    "sio.savemat('test_300/10.mat', dict(P=X_test[x], gt=y_test[x]))\n",
    "\n"
   ]
  },
  {
   "cell_type": "code",
   "execution_count": null,
   "metadata": {},
   "outputs": [],
   "source": []
  },
  {
   "cell_type": "code",
   "execution_count": null,
   "metadata": {},
   "outputs": [],
   "source": []
  }
 ],
 "metadata": {
  "interpreter": {
   "hash": "1bb0a6fba10f3fcce42f6d89eaee7592a654c9e2307eb13fe2d14f4f14d19804"
  },
  "kernelspec": {
   "display_name": "Python 3.9.7 64-bit ('tf310': conda)",
   "name": "python3"
  },
  "language_info": {
   "codemirror_mode": {
    "name": "ipython",
    "version": 3
   },
   "file_extension": ".py",
   "mimetype": "text/x-python",
   "name": "python",
   "nbconvert_exporter": "python",
   "pygments_lexer": "ipython3",
   "version": "3.9.7"
  },
  "orig_nbformat": 4
 },
 "nbformat": 4,
 "nbformat_minor": 2
}
