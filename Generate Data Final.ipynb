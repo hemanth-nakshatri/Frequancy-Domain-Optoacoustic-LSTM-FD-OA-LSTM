{
 "cells": [
  {
   "cell_type": "markdown",
   "id": "b642abb6",
   "metadata": {},
   "source": [
    "# Imports "
   ]
  },
  {
   "cell_type": "code",
   "execution_count": 2,
   "id": "5bf0974d",
   "metadata": {},
   "outputs": [],
   "source": [
    "from PIL import Image\n",
    "import numpy as np\n",
    "import matplotlib.pyplot as plt\n",
    "import math\n",
    "import cmath\n",
    "from tqdm import tqdm\n",
    "import glob\n",
    "import scipy\n",
    "from scipy import io as sio"
   ]
  },
  {
   "cell_type": "markdown",
   "id": "e07d9de9",
   "metadata": {},
   "source": [
    "# Input parameters "
   ]
  },
  {
   "cell_type": "code",
   "execution_count": 6,
   "id": "7fc7b093",
   "metadata": {},
   "outputs": [],
   "source": [
    "## Inputs\n",
    "\n",
    "raw_data_path = \"../../../Dataset/image_domain/Augmented_dataset/64_64_2*\"\n",
    "ph_size = 64\n",
    "grid_size = 500\n",
    "r = 200\n",
    "n_transducers = 64\n",
    "\n",
    "c = 1500\n",
    "\n",
    "wn = 64\n",
    "f_start = 100000\n",
    "f_end = 5000000"
   ]
  },
  {
   "cell_type": "markdown",
   "id": "71e68063",
   "metadata": {},
   "source": [
    "# Weight Matrix Generation for 'N' Frequenices "
   ]
  },
  {
   "cell_type": "markdown",
   "id": "6626ee77",
   "metadata": {},
   "source": [
    "### Function to calculate weights after distances are calculated "
   ]
  },
  {
   "cell_type": "code",
   "execution_count": 3,
   "id": "dfa57946",
   "metadata": {},
   "outputs": [],
   "source": [
    "def Calculate_W_matrix(w):\n",
    "    W_matrix = distance\n",
    "    final = np.zeros(W_matrix.shape[0]).astype(complex)\n",
    "    \n",
    "    for i in range(W_matrix.shape[0]):\n",
    "        d = W_matrix[i]\n",
    "        x = (w/c)*d\n",
    "        z = complex(0, x)\n",
    "        temp = (w * cmath.exp(z)) / d\n",
    "        \n",
    "        j = complex(0,-1)\n",
    "        temp = temp * j\n",
    "        \n",
    "        final[i] = temp\n",
    "    final = np.reshape(final, (n_transducers, ph_size*ph_size))\n",
    "    return final"
   ]
  },
  {
   "cell_type": "markdown",
   "id": "94596148",
   "metadata": {},
   "source": [
    "### Calculate distances between transducers and ROI "
   ]
  },
  {
   "cell_type": "code",
   "execution_count": 4,
   "id": "beec63d2",
   "metadata": {},
   "outputs": [],
   "source": [
    "ph = np.empty((ph_size, ph_size))\n",
    "\n",
    "\n",
    "#     Create a grid\n",
    "\n",
    "grid = np.zeros((grid_size, grid_size))\n",
    "left = (grid_size - ph_size) // 2\n",
    "right = (grid_size + ph_size) // 2\n",
    "top = (grid_size - ph_size) // 2\n",
    "bottom = (grid_size + ph_size) // 2\n",
    "grid[left:right,top:bottom] = ph\n",
    "theta = np.linspace(0, 2*np.pi, n_transducers, endpoint=False)\n",
    "offset = grid_size // 2\n",
    "x = r*np.cos(theta) + offset\n",
    "y = r*np.sin(theta) + offset\n",
    "\n",
    "x = x[::-1]; x = np.append(x[-1], x[:-1])\n",
    "y = y[::-1]; y = np.append(y[-1], y[:-1])\n",
    "\n",
    "td_loc = tuple(zip(x,y))\n",
    "\n",
    "#     Get list of points of phantom\n",
    "\n",
    "#     Get ROI\n",
    "roi = []\n",
    "for i in range(top, bottom):\n",
    "    for j in range(left, right):\n",
    "        roi.append((j,i))\n",
    "\n",
    "#     Calculate distances from Each Transducer to each pixel in ROI\n",
    "distance = []\n",
    "for i in range(len(td_loc)):\n",
    "    for j in range(len(roi)):\n",
    "        d = math.dist(td_loc[i], roi[j]) * 0.0001\n",
    "        distance.append(d)\n",
    "        \n",
    "distance = np.asarray(distance)"
   ]
  },
  {
   "cell_type": "markdown",
   "id": "d79919aa",
   "metadata": {},
   "source": [
    "### Compute Weight matrix using the defined function"
   ]
  },
  {
   "cell_type": "code",
   "execution_count": 5,
   "id": "f0ce7d76",
   "metadata": {},
   "outputs": [
    {
     "name": "stderr",
     "output_type": "stream",
     "text": [
      "100%|███████████████████████████████████████████| 64/64 [00:40<00:00,  1.58it/s]\n"
     ]
    }
   ],
   "source": [
    "w_range = list(np.linspace(f_start, f_end, wn))\n",
    "weight_matrix = []\n",
    "for i in tqdm(w_range):\n",
    "    weight_matrix.append(Calculate_W_matrix(i))\n",
    "    \n",
    "weight_matrix = np.asarray(weight_matrix)    "
   ]
  },
  {
   "cell_type": "markdown",
   "id": "5c0934ce",
   "metadata": {},
   "source": [
    "### Save Weight Matrix as npy file"
   ]
  },
  {
   "cell_type": "code",
   "execution_count": 5,
   "id": "9be840fa",
   "metadata": {},
   "outputs": [
    {
     "ename": "NameError",
     "evalue": "name 'weight_matrix' is not defined",
     "output_type": "error",
     "traceback": [
      "\u001b[0;31m---------------------------------------------------------------------------\u001b[0m",
      "\u001b[0;31mNameError\u001b[0m                                 Traceback (most recent call last)",
      "\u001b[0;32m/tmp/ipykernel_26810/3637078130.py\u001b[0m in \u001b[0;36m<module>\u001b[0;34m\u001b[0m\n\u001b[0;32m----> 1\u001b[0;31m \u001b[0mnp\u001b[0m\u001b[0;34m.\u001b[0m\u001b[0msave\u001b[0m\u001b[0;34m(\u001b[0m\u001b[0;34m\"weights/weight_matrix_{}_{}_{}\"\u001b[0m\u001b[0;34m.\u001b[0m\u001b[0mformat\u001b[0m\u001b[0;34m(\u001b[0m\u001b[0mph_size\u001b[0m\u001b[0;34m,\u001b[0m \u001b[0mn_transducers\u001b[0m\u001b[0;34m,\u001b[0m \u001b[0mwn\u001b[0m\u001b[0;34m)\u001b[0m\u001b[0;34m,\u001b[0m \u001b[0mweight_matrix\u001b[0m\u001b[0;34m)\u001b[0m\u001b[0;34m\u001b[0m\u001b[0;34m\u001b[0m\u001b[0m\n\u001b[0m",
      "\u001b[0;31mNameError\u001b[0m: name 'weight_matrix' is not defined"
     ]
    }
   ],
   "source": [
    "np.save(\"weights/weight_matrix_{}_{}_{}\".format(ph_size, n_transducers, wn), weight_matrix)"
   ]
  },
  {
   "cell_type": "markdown",
   "id": "a3c0566f",
   "metadata": {},
   "source": [
    "# Calculate P = WX matrix for all Images"
   ]
  },
  {
   "cell_type": "markdown",
   "id": "b08fe0e8",
   "metadata": {},
   "source": [
    "### Load Weight Matrix "
   ]
  },
  {
   "cell_type": "code",
   "execution_count": 7,
   "id": "4f9b1e90",
   "metadata": {},
   "outputs": [
    {
     "ename": "FileNotFoundError",
     "evalue": "[Errno 2] No such file or directory: 'weights/weight_matrix_64_64_64.npy'",
     "output_type": "error",
     "traceback": [
      "\u001b[0;31m---------------------------------------------------------------------------\u001b[0m",
      "\u001b[0;31mFileNotFoundError\u001b[0m                         Traceback (most recent call last)",
      "\u001b[0;32m/tmp/ipykernel_6144/1926324529.py\u001b[0m in \u001b[0;36m<module>\u001b[0;34m\u001b[0m\n\u001b[0;32m----> 1\u001b[0;31m \u001b[0mweight_matrix\u001b[0m \u001b[0;34m=\u001b[0m \u001b[0mnp\u001b[0m\u001b[0;34m.\u001b[0m\u001b[0mload\u001b[0m\u001b[0;34m(\u001b[0m\u001b[0;34m\"weights/weight_matrix_{}_{}_{}.npy\"\u001b[0m\u001b[0;34m.\u001b[0m\u001b[0mformat\u001b[0m\u001b[0;34m(\u001b[0m\u001b[0mph_size\u001b[0m\u001b[0;34m,\u001b[0m \u001b[0mn_transducers\u001b[0m\u001b[0;34m,\u001b[0m \u001b[0mwn\u001b[0m\u001b[0;34m)\u001b[0m\u001b[0;34m)\u001b[0m\u001b[0;34m\u001b[0m\u001b[0;34m\u001b[0m\u001b[0m\n\u001b[0m",
      "\u001b[0;32m~/anaconda3/envs/tf310/lib/python3.9/site-packages/numpy/lib/npyio.py\u001b[0m in \u001b[0;36mload\u001b[0;34m(file, mmap_mode, allow_pickle, fix_imports, encoding)\u001b[0m\n\u001b[1;32m    414\u001b[0m             \u001b[0mown_fid\u001b[0m \u001b[0;34m=\u001b[0m \u001b[0;32mFalse\u001b[0m\u001b[0;34m\u001b[0m\u001b[0;34m\u001b[0m\u001b[0m\n\u001b[1;32m    415\u001b[0m         \u001b[0;32melse\u001b[0m\u001b[0;34m:\u001b[0m\u001b[0;34m\u001b[0m\u001b[0;34m\u001b[0m\u001b[0m\n\u001b[0;32m--> 416\u001b[0;31m             \u001b[0mfid\u001b[0m \u001b[0;34m=\u001b[0m \u001b[0mstack\u001b[0m\u001b[0;34m.\u001b[0m\u001b[0menter_context\u001b[0m\u001b[0;34m(\u001b[0m\u001b[0mopen\u001b[0m\u001b[0;34m(\u001b[0m\u001b[0mos_fspath\u001b[0m\u001b[0;34m(\u001b[0m\u001b[0mfile\u001b[0m\u001b[0;34m)\u001b[0m\u001b[0;34m,\u001b[0m \u001b[0;34m\"rb\"\u001b[0m\u001b[0;34m)\u001b[0m\u001b[0;34m)\u001b[0m\u001b[0;34m\u001b[0m\u001b[0;34m\u001b[0m\u001b[0m\n\u001b[0m\u001b[1;32m    417\u001b[0m             \u001b[0mown_fid\u001b[0m \u001b[0;34m=\u001b[0m \u001b[0;32mTrue\u001b[0m\u001b[0;34m\u001b[0m\u001b[0;34m\u001b[0m\u001b[0m\n\u001b[1;32m    418\u001b[0m \u001b[0;34m\u001b[0m\u001b[0m\n",
      "\u001b[0;31mFileNotFoundError\u001b[0m: [Errno 2] No such file or directory: 'weights/weight_matrix_64_64_64.npy'"
     ]
    }
   ],
   "source": [
    "weight_matrix = np.load(\"weights/weight_matrix_{}_{}_{}.npy\".format(ph_size, n_transducers, wn))"
   ]
  },
  {
   "cell_type": "code",
   "execution_count": 6,
   "id": "21d36552",
   "metadata": {},
   "outputs": [],
   "source": [
    "def normalize_sensor_data(sensor):\n",
    "    sensor = sensor.flatten()\n",
    "    abs_sens = abs(sensor)\n",
    "    phase = np.asarray([cmath.phase(i) for i in sensor])\n",
    "    norm_abs = (abs_sens - min(abs_sens)) / (max(abs_sens) - min(abs_sens))\n",
    "    norm_phase = (phase - min(phase)) / (max(phase) - min(phase)) \n",
    "    norm_P = [cmath.rect(norm_abs[i], norm_phase[i]) for i in range(len(norm_abs))]\n",
    "    norm_P = np.reshape(np.asarray(norm_P), (ph_size, ph_size))\n",
    "    return norm_P"
   ]
  },
  {
   "cell_type": "code",
   "execution_count": 20,
   "id": "2e3d281d",
   "metadata": {},
   "outputs": [
    {
     "name": "stderr",
     "output_type": "stream",
     "text": [
      "100%|███████████████████████████████████████| 1993/1993 [06:53<00:00,  4.82it/s]\n"
     ]
    }
   ],
   "source": [
    "count = 0\n",
    "for filename in tqdm(glob.glob(raw_data_path)):\n",
    "    count += 1\n",
    "#     Get X\n",
    "    ph = Image.open(filename)\n",
    "    ph = ph.resize([ph_size, ph_size], Image.ANTIALIAS)\n",
    "#     mat = sio.loadmat(filename)\n",
    "#     ph = mat['X'].copy()\n",
    "#     ph = Image.fromarray(np.uint8(ph)*255)\n",
    "#     ph = ph.resize([ph_size, ph_size], Image.ANTIALIAS)\n",
    "    ph = np.asarray(ph)\n",
    "    X = ph.flatten()\n",
    "    \n",
    "#     Calculate P = WX\n",
    "    P = []\n",
    "    for i in range(len(weight_matrix)):\n",
    "        P.append(np.matmul(weight_matrix[i], X))\n",
    "    P = np.asarray(P)\n",
    "#     pol = np.dstack((np.abs(P), np.angle(P)))\n",
    "    P_abs = abs(P)\n",
    "    \n",
    "    max_truth = max(ph.flatten())\n",
    "    min_truth = min(ph.flatten())\n",
    "    \n",
    "    max_sensor = max(P.flatten())\n",
    "    min_sensor = min(P.flatten())\n",
    "    \n",
    "    sensor_norm = normalize_sensor_data(P)\n",
    "    \n",
    "    phase = [cmath.phase(i) for  i in P.flatten()]\n",
    "    \n",
    "    max_phase = max(phase)\n",
    "    min_phase = min(phase)\n",
    "    \n",
    "    sio.savemat(\"../../../Dataset/sensor_domain/simple_128_128_split/binary_{}.mat\".format(count),\n",
    "                dict(sensor=P, truth=ph, sensor_norm=sensor_norm, P_abs=P_abs,\n",
    "                     max_truth=max_truth, min_truth=min_truth,\n",
    "                     max_sensor=max_sensor, min_sensor=min_sensor,\n",
    "                     max_phase=max_phase, min_phase=min_phase))\n",
    "    "
   ]
  },
  {
   "cell_type": "code",
   "execution_count": 21,
   "id": "6ec5e7d9",
   "metadata": {
    "scrolled": true
   },
   "outputs": [
    {
     "data": {
      "text/plain": [
       "<matplotlib.image.AxesImage at 0x7f31f67e2c40>"
      ]
     },
     "execution_count": 21,
     "metadata": {},
     "output_type": "execute_result"
    },
    {
     "data": {
      "image/png": "[encoded data removed]",
      "text/plain": [
       "<Figure size 432x288 with 1 Axes>"
      ]
     },
     "metadata": {
      "needs_background": "light"
     },
     "output_type": "display_data"
    }
   ],
   "source": [
    "mat = sio.loadmat(\"../../../Dataset/sensor_domain/simple_128_128/binary_3.mat\")\n",
    "x = mat[\"sensor\"]\n",
    "plt.imshow(abs(x), cmap=\"gray\")"
   ]
  },
  {
   "cell_type": "code",
   "execution_count": 22,
   "id": "d030546e",
   "metadata": {},
   "outputs": [
    {
     "data": {
      "text/plain": [
       "<matplotlib.image.AxesImage at 0x7f31f6b47790>"
      ]
     },
     "execution_count": 22,
     "metadata": {},
     "output_type": "execute_result"
    },
    {
     "data": {
      "image/png": "[encoded data removed]",
      "text/plain": [
       "<Figure size 432x288 with 1 Axes>"
      ]
     },
     "metadata": {
      "needs_background": "light"
     },
     "output_type": "display_data"
    }
   ],
   "source": [
    "x = mat[\"sensor_norm\"]\n",
    "plt.imshow(abs(x), cmap=\"gray\")"
   ]
  },
  {
   "cell_type": "code",
   "execution_count": 23,
   "id": "fccaaa24",
   "metadata": {},
   "outputs": [
    {
     "ename": "KeyError",
     "evalue": "'P_abs'",
     "output_type": "error",
     "traceback": [
      "\u001b[0;31m---------------------------------------------------------------------------\u001b[0m",
      "\u001b[0;31mKeyError\u001b[0m                                  Traceback (most recent call last)",
      "\u001b[0;32m/tmp/ipykernel_3793/1476994306.py\u001b[0m in \u001b[0;36m<module>\u001b[0;34m\u001b[0m\n\u001b[0;32m----> 1\u001b[0;31m \u001b[0mx\u001b[0m \u001b[0;34m=\u001b[0m \u001b[0mmat\u001b[0m\u001b[0;34m[\u001b[0m\u001b[0;34m\"P_abs\"\u001b[0m\u001b[0;34m]\u001b[0m\u001b[0;34m\u001b[0m\u001b[0;34m\u001b[0m\u001b[0m\n\u001b[0m\u001b[1;32m      2\u001b[0m \u001b[0mplt\u001b[0m\u001b[0;34m.\u001b[0m\u001b[0mimshow\u001b[0m\u001b[0;34m(\u001b[0m\u001b[0mabs\u001b[0m\u001b[0;34m(\u001b[0m\u001b[0mx\u001b[0m\u001b[0;34m)\u001b[0m\u001b[0;34m,\u001b[0m \u001b[0mcmap\u001b[0m\u001b[0;34m=\u001b[0m\u001b[0;34m\"gray\"\u001b[0m\u001b[0;34m)\u001b[0m\u001b[0;34m\u001b[0m\u001b[0;34m\u001b[0m\u001b[0m\n",
      "\u001b[0;31mKeyError\u001b[0m: 'P_abs'"
     ]
    }
   ],
   "source": [
    "x = mat[\"P_abs\"]\n",
    "plt.imshow(abs(x), cmap=\"gray\")"
   ]
  },
  {
   "cell_type": "code",
   "execution_count": null,
   "id": "322e6d9b",
   "metadata": {},
   "outputs": [],
   "source": [
    "img = mat[\"truth\"]\n",
    "plt.imshow(img, cmap=\"gray\")"
   ]
  },
  {
   "cell_type": "code",
   "execution_count": null,
   "id": "ca8b20b6",
   "metadata": {},
   "outputs": [],
   "source": []
  }
 ],
 "metadata": {
  "interpreter": {
   "hash": "1bb0a6fba10f3fcce42f6d89eaee7592a654c9e2307eb13fe2d14f4f14d19804"
  },
  "kernelspec": {
   "display_name": "Python 3.9.7 64-bit ('tf310': conda)",
   "name": "python3"
  },
  "language_info": {
   "codemirror_mode": {
    "name": "ipython",
    "version": 3
   },
   "file_extension": ".py",
   "mimetype": "text/x-python",
   "name": "python",
   "nbconvert_exporter": "python",
   "pygments_lexer": "ipython3",
   "version": "3.9.7"
  }
 },
 "nbformat": 4,
 "nbformat_minor": 5
}
