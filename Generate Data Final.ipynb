{
 "cells": [
  {
   "cell_type": "markdown",
   "id": "b642abb6",
   "metadata": {},
   "source": [
    "# Imports "
   ]
  },
  {
   "cell_type": "code",
   "execution_count": 1,
   "id": "5bf0974d",
   "metadata": {},
   "outputs": [],
   "source": [
    "from PIL import Image\n",
    "import numpy as np\n",
    "import matplotlib.pyplot as plt\n",
    "import math\n",
    "import cmath\n",
    "from tqdm import tqdm\n",
    "import glob\n",
    "import scipy\n",
    "from scipy import io as sio"
   ]
  },
  {
   "cell_type": "markdown",
   "id": "e07d9de9",
   "metadata": {},
   "source": [
    "# Input parameters "
   ]
  },
  {
   "cell_type": "code",
   "execution_count": 2,
   "id": "7fc7b093",
   "metadata": {},
   "outputs": [],
   "source": [
    "## Inputs\n",
    "\n",
    "raw_data_path = \"../../../Dataset/image_domain/high_freq/Augmented_dataset/64_128_breast_new/*\"\n",
    "ph_size = 128\n",
    "grid_size = 500\n",
    "r = 100\n",
    "n_transducers = 64\n",
    "\n",
    "c = 1500\n",
    "\n",
    "wn = 128\n",
    "f_start = 100000\n",
    "f_end = 2500000"
   ]
  },
  {
   "cell_type": "markdown",
   "id": "71e68063",
   "metadata": {},
   "source": [
    "# Weight Matrix Generation for 'N' Frequenices "
   ]
  },
  {
   "cell_type": "markdown",
   "id": "6626ee77",
   "metadata": {},
   "source": [
    "### Function to calculate weights after distances are calculated "
   ]
  },
  {
   "cell_type": "code",
   "execution_count": 3,
   "id": "dfa57946",
   "metadata": {},
   "outputs": [],
   "source": [
    "def Calculate_W_matrix(w):\n",
    "    W_matrix = distance\n",
    "    final = np.zeros(W_matrix.shape[0]).astype(complex)\n",
    "    \n",
    "    for i in range(W_matrix.shape[0]):\n",
    "        d = W_matrix[i]\n",
    "        x = (w/c)*d\n",
    "        z = complex(0, x)\n",
    "        temp = (w * cmath.exp(z)) / d\n",
    "        \n",
    "        j = complex(0,-1)\n",
    "        temp = temp * j\n",
    "        \n",
    "        final[i] = temp\n",
    "    final = np.reshape(final, (n_transducers, ph_size*ph_size))\n",
    "    return final"
   ]
  },
  {
   "cell_type": "markdown",
   "id": "94596148",
   "metadata": {},
   "source": [
    "### Calculate distances between transducers and ROI "
   ]
  },
  {
   "cell_type": "code",
   "execution_count": 4,
   "id": "beec63d2",
   "metadata": {},
   "outputs": [],
   "source": [
    "ph = np.empty((ph_size, ph_size))\n",
    "\n",
    "\n",
    "#     Create a grid\n",
    "\n",
    "grid = np.zeros((grid_size, grid_size))\n",
    "left = (grid_size - ph_size) // 2\n",
    "right = (grid_size + ph_size) // 2\n",
    "top = (grid_size - ph_size) // 2\n",
    "bottom = (grid_size + ph_size) // 2\n",
    "grid[left:right,top:bottom] = ph\n",
    "theta = np.linspace(0, 2*np.pi, n_transducers, endpoint=False)\n",
    "offset = grid_size // 2\n",
    "x = r*np.cos(theta) + offset\n",
    "y = r*np.sin(theta) + offset\n",
    "\n",
    "x = x[::-1]; x = np.append(x[-1], x[:-1])\n",
    "y = y[::-1]; y = np.append(y[-1], y[:-1])\n",
    "\n",
    "td_loc = tuple(zip(x,y))\n",
    "\n",
    "#     Get list of points of phantom\n",
    "\n",
    "#     Get ROI\n",
    "roi = []\n",
    "for i in range(top, bottom):\n",
    "    for j in range(left, right):\n",
    "        roi.append((j,i))\n",
    "\n",
    "#     Calculate distances from Each Transducer to each pixel in ROI\n",
    "distance = []\n",
    "for i in range(len(td_loc)):\n",
    "    for j in range(len(roi)):\n",
    "        d = math.dist(td_loc[i], roi[j]) * 0.001\n",
    "        distance.append(d)\n",
    "        \n",
    "distance = np.asarray(distance)"
   ]
  },
  {
   "cell_type": "markdown",
   "id": "d79919aa",
   "metadata": {},
   "source": [
    "### Compute Weight matrix using the defined function"
   ]
  },
  {
   "cell_type": "code",
   "execution_count": 5,
   "id": "f0ce7d76",
   "metadata": {},
   "outputs": [
    {
     "name": "stderr",
     "output_type": "stream",
     "text": [
      "100%|██████████| 64/64 [00:40<00:00,  1.60it/s]\n"
     ]
    }
   ],
   "source": [
    "w_range = list(np.linspace(f_start, f_end, wn))\n",
    "weight_matrix = []\n",
    "for i in tqdm(w_range):\n",
    "    weight_matrix.append(Calculate_W_matrix(i))\n",
    "    \n",
    "weight_matrix = np.asarray(weight_matrix)    "
   ]
  },
  {
   "cell_type": "markdown",
   "id": "5c0934ce",
   "metadata": {},
   "source": [
    "### Save Weight Matrix as npy file"
   ]
  },
  {
   "cell_type": "code",
   "execution_count": 6,
   "id": "9be840fa",
   "metadata": {},
   "outputs": [],
   "source": [
    "np.save(\"Weights/weight_matrix_{}_{}_{}\".format(ph_size, n_transducers, wn), weight_matrix)"
   ]
  },
  {
   "cell_type": "markdown",
   "id": "a3c0566f",
   "metadata": {},
   "source": [
    "# Calculate P = WX matrix for all Images"
   ]
  },
  {
   "cell_type": "markdown",
   "id": "b08fe0e8",
   "metadata": {},
   "source": [
    "### Load Weight Matrix "
   ]
  },
  {
   "cell_type": "code",
   "execution_count": 7,
   "id": "4f9b1e90",
   "metadata": {},
   "outputs": [],
   "source": [
    "weight_matrix = np.load(\"Weights/weight_matrix_{}_{}_{}.npy\".format(ph_size, n_transducers, wn))"
   ]
  },
  {
   "cell_type": "code",
   "execution_count": 8,
   "id": "21d36552",
   "metadata": {},
   "outputs": [],
   "source": [
    "def normalize_sensor_data(sensor):\n",
    "    sensor = sensor.flatten()\n",
    "    abs_sens = abs(sensor)\n",
    "    phase = np.asarray([cmath.phase(i) for i in sensor])\n",
    "    norm_abs = (abs_sens - min(abs_sens)) / (max(abs_sens) - min(abs_sens))\n",
    "    norm_phase = (phase - min(phase)) / (max(phase) - min(phase)) \n",
    "    norm_P = [cmath.rect(norm_abs[i], norm_phase[i]) for i in range(len(norm_abs))]\n",
    "    norm_P = np.reshape(np.asarray(norm_P), (ph_size, ph_size))\n",
    "    return norm_P"
   ]
  },
  {
   "cell_type": "code",
   "execution_count": 11,
   "id": "2e3d281d",
   "metadata": {},
   "outputs": [
    {
     "name": "stderr",
     "output_type": "stream",
     "text": [
      "100%|██████████| 14180/14180 [07:44<00:00, 30.55it/s]\n"
     ]
    }
   ],
   "source": [
    "count = 0\n",
    "for filename in tqdm(glob.glob(raw_data_path)):\n",
    "    count += 1\n",
    "#     Get X\n",
    "    # ph = Image.open(filename)\n",
    "    # ph = ph.resize([ph_size, ph_size], Image.ANTIALIAS)\n",
    "    mat = sio.loadmat(filename)\n",
    "    ph = mat['X'].copy()\n",
    "    ph = Image.fromarray(np.uint8(ph)*255)\n",
    "    ph = ph.resize([ph_size, ph_size], Image.ANTIALIAS)\n",
    "    ph = np.asarray(ph)\n",
    "    X = ph.flatten()\n",
    "    \n",
    "#     Calculate P = WX\n",
    "    P = []\n",
    "    for i in range(len(weight_matrix)):\n",
    "        P.append(np.matmul(weight_matrix[i], X))\n",
    "    P = np.asarray(P)\n",
    "#     pol = np.dstack((np.abs(P), np.angle(P)))\n",
    "    P_abs = abs(P)\n",
    "    \n",
    "    max_truth = max(ph.flatten())\n",
    "    min_truth = min(ph.flatten())\n",
    "    \n",
    "    max_sensor = max(P.flatten())\n",
    "    min_sensor = min(P.flatten())\n",
    "    \n",
    "    sensor_norm = normalize_sensor_data(P)\n",
    "    \n",
    "    phase = [cmath.phase(i) for  i in P.flatten()]\n",
    "    \n",
    "    max_phase = max(phase)\n",
    "    min_phase = min(phase)\n",
    "    \n",
    "    sio.savemat(\"../../../Dataset/sensor_domain/high_freq/64_breast_new/binary_{}.mat\".format(count),\n",
    "                dict(sensor=P, truth=ph, sensor_norm=sensor_norm, P_abs=P_abs,\n",
    "                     max_truth=max_truth, min_truth=min_truth,\n",
    "                     max_sensor=max_sensor, min_sensor=min_sensor,\n",
    "                     max_phase=max_phase, min_phase=min_phase))\n",
    "    "
   ]
  },
  {
   "cell_type": "code",
   "execution_count": 13,
   "id": "6ec5e7d9",
   "metadata": {
    "scrolled": true
   },
   "outputs": [
    {
     "data": {
      "text/plain": [
       "<matplotlib.image.AxesImage at 0x7fa95965a6d0>"
      ]
     },
     "execution_count": 13,
     "metadata": {},
     "output_type": "execute_result"
    },
    {
     "data": {
      "image/png": "[encoded data removed]",
      "text/plain": [
       "<Figure size 432x288 with 1 Axes>"
      ]
     },
     "metadata": {
      "needs_background": "light"
     },
     "output_type": "display_data"
    }
   ],
   "source": [
    "mat = sio.loadmat(\"../../../Dataset/sensor_domain/high_freq/64_breast_new/binary_3.mat\")\n",
    "x = mat[\"sensor\"]\n",
    "plt.imshow(abs(x), cmap=\"gray\")"
   ]
  },
  {
   "cell_type": "code",
   "execution_count": 14,
   "id": "d030546e",
   "metadata": {},
   "outputs": [
    {
     "data": {
      "text/plain": [
       "<matplotlib.image.AxesImage at 0x7fa9596e85e0>"
      ]
     },
     "execution_count": 14,
     "metadata": {},
     "output_type": "execute_result"
    },
    {
     "data": {
      "image/png": "[encoded data removed]",
      "text/plain": [
       "<Figure size 432x288 with 1 Axes>"
      ]
     },
     "metadata": {
      "needs_background": "light"
     },
     "output_type": "display_data"
    }
   ],
   "source": [
    "x = mat[\"sensor_norm\"]\n",
    "plt.imshow(abs(x), cmap=\"gray\")"
   ]
  },
  {
   "cell_type": "code",
   "execution_count": 15,
   "id": "fccaaa24",
   "metadata": {},
   "outputs": [
    {
     "data": {
      "text/plain": [
       "<matplotlib.image.AxesImage at 0x7fa959460220>"
      ]
     },
     "execution_count": 15,
     "metadata": {},
     "output_type": "execute_result"
    },
    {
     "data": {
      "image/png": "[encoded data removed]",
      "text/plain": [
       "<Figure size 432x288 with 1 Axes>"
      ]
     },
     "metadata": {
      "needs_background": "light"
     },
     "output_type": "display_data"
    }
   ],
   "source": [
    "x = mat[\"P_abs\"]\n",
    "plt.imshow(abs(x), cmap=\"gray\")"
   ]
  },
  {
   "cell_type": "code",
   "execution_count": 16,
   "id": "322e6d9b",
   "metadata": {},
   "outputs": [
    {
     "data": {
      "text/plain": [
       "<matplotlib.image.AxesImage at 0x7fa959444340>"
      ]
     },
     "execution_count": 16,
     "metadata": {},
     "output_type": "execute_result"
    },
    {
     "data": {
      "image/png": "[encoded data removed]",
      "text/plain": [
       "<Figure size 432x288 with 1 Axes>"
      ]
     },
     "metadata": {
      "needs_background": "light"
     },
     "output_type": "display_data"
    }
   ],
   "source": [
    "img = mat[\"truth\"]\n",
    "plt.imshow(img, cmap=\"gray\")"
   ]
  },
  {
   "cell_type": "code",
   "execution_count": null,
   "id": "ca8b20b6",
   "metadata": {},
   "outputs": [],
   "source": []
  }
 ],
 "metadata": {
  "interpreter": {
   "hash": "1bb0a6fba10f3fcce42f6d89eaee7592a654c9e2307eb13fe2d14f4f14d19804"
  },
  "kernelspec": {
   "display_name": "Python 3.9.7 64-bit ('tf310': conda)",
   "name": "python3"
  },
  "language_info": {
   "codemirror_mode": {
    "name": "ipython",
    "version": 3
   },
   "file_extension": ".py",
   "mimetype": "text/x-python",
   "name": "python",
   "nbconvert_exporter": "python",
   "pygments_lexer": "ipython3",
   "version": "3.9.7"
  }
 },
 "nbformat": 4,
 "nbformat_minor": 5
}
